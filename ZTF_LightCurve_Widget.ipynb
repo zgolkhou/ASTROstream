{
 "cells": [
  {
   "cell_type": "code",
   "execution_count": 1,
   "metadata": {},
   "outputs": [],
   "source": [
    "import pandas as pd\n",
    "import numpy as np\n",
    "import mysql.connector as mariadb\n",
    "from astropy.time import Time\n",
    "%matplotlib notebook\n",
    "import matplotlib.pyplot as plt\n",
    "from matplotlib import gridspec\n",
    "import time\n",
    "from ipywidgets import *"
   ]
  },
  {
   "cell_type": "code",
   "execution_count": 2,
   "metadata": {},
   "outputs": [
    {
     "data": {
      "text/html": [
       "<style>.container { width:90% !important; }</style>"
      ],
      "text/plain": [
       "<IPython.core.display.HTML object>"
      ]
     },
     "metadata": {},
     "output_type": "display_data"
    }
   ],
   "source": [
    "from IPython.core.display import display, HTML\n",
    "display(HTML(\"<style>.container { width:90% !important; }</style>\"))"
   ]
  },
  {
   "cell_type": "code",
   "execution_count": 3,
   "metadata": {},
   "outputs": [],
   "source": [
    "pd.set_option('display.max_columns',120)"
   ]
  },
  {
   "cell_type": "code",
   "execution_count": 4,
   "metadata": {},
   "outputs": [],
   "source": [
    "con = mariadb.connect(user='ztf', database='ztf')"
   ]
  },
  {
   "cell_type": "code",
   "execution_count": 5,
   "metadata": {},
   "outputs": [],
   "source": [
    "def plot_lightcurve(dflc_lm, Classtar = 0., Thrsh_RB = 0., days_ago=True, g=True, r=False, i=False):\n",
    "    \n",
    "    dflc = pd.read_sql_query(\"SELECT objectId, jd, magpsf, sigmapsf, diffmaglim ,ra, decl, fid, \\\n",
    "        classtar, rb, candid, programid FROM alerts where objectId='{}' ORDER BY jd\".format(dflc_lm), con=con)\n",
    "    \n",
    "    dflm = pd.read_sql_query(\"SELECT objectId, jd, diffmaglim, fid FROM alerts_limmag where objectId='{}' \\\n",
    "        ORDER BY jd\".format(dflc_lm), con=con)\n",
    "    \n",
    "    dflc = dflc[dflc.classtar > Classtar]\n",
    "    dflc = dflc[dflc.rb > Thrsh_RB]    \n",
    "    \n",
    "    filter_color1 = filter_color2 = filter_color3 = {}\n",
    "    if g:\n",
    "        filter_color1 = {1:'green'}\n",
    "\n",
    "    if r:\n",
    "        filter_color2 = {2:'red'}\n",
    "\n",
    "    if i:\n",
    "        filter_color3 = {3:'blue'}\n",
    "\n",
    "    filter_color = {**filter_color1, **filter_color2, **filter_color3}\n",
    "\n",
    "\n",
    "    plt.figure(figsize=(12,5))\n",
    "    gs = gridspec.GridSpec(1, 2, width_ratios=[3, 1]) \n",
    "\n",
    "    ax0 = plt.subplot((gs[0]))\n",
    "    \n",
    "    if days_ago:\n",
    "        now = Time.now().jd\n",
    "        tc = dflc.jd - now\n",
    "        tm = dflm.jd - now\n",
    "        xlabel = 'Days Ago'\n",
    "    else:\n",
    "        tc = dflc.jd\n",
    "        tm = dflm.jd\n",
    "        xlabel = 'Time (JD)'\n",
    "    \n",
    "    for fid, color in filter_color.items():\n",
    "        \n",
    "        # plotting detections\n",
    "        v = (dflc.fid == fid)\n",
    "        if np.sum(v):\n",
    "            plt.errorbar(tc[v],dflc.loc[v,'magpsf'], dflc.loc[v,'sigmapsf'],fmt='.',color=color,alpha=0.5)\n",
    "            \n",
    "        # plotting upper-limits from the prv_candidate\n",
    "        #w = (dflm.fid == fid)\n",
    "        #if np.sum(w):\n",
    "        #    plt.scatter(tm[w],dflm.loc[w,'diffmaglim'], marker='v',color=color,alpha=0.25)\n",
    "    \n",
    "\n",
    "\n",
    "    plt.gca().invert_yaxis()\n",
    "    plt.xlabel(xlabel)\n",
    "    plt.ylabel('Magnitude')\n",
    "    \n",
    "    \n",
    "    ax1 = plt.subplot((gs[1]))\n",
    "    ax1.plot((dflc.ra - (dflc.ra.mean()))*3600, (dflc.decl - (dflc.decl.mean()))*3600,'bo',ms=2)\n",
    "\n",
    "    plt.xlabel(r'$\\Delta RA \\, (arcsec)$')\n",
    "    plt.ylabel(r'$\\Delta Dec \\, (arcsec)$')"
   ]
  },
  {
   "cell_type": "code",
   "execution_count": 6,
   "metadata": {},
   "outputs": [
    {
     "data": {
      "application/vnd.jupyter.widget-view+json": {
       "model_id": "81785f5ba9cf4d6eace2c6e5f616ce22",
       "version_major": 2,
       "version_minor": 0
      },
      "text/plain": [
       "interactive(children=(Text(value='ZTF18aagsenq', description='dflc_lm'), FloatSlider(value=0.0, description='C…"
      ]
     },
     "metadata": {},
     "output_type": "display_data"
    },
    {
     "data": {
      "text/plain": [
       "<function __main__.plot_lightcurve(dflc_lm, Classtar=0.0, Thrsh_RB=0.0, days_ago=True, g=True, r=False, i=False)>"
      ]
     },
     "execution_count": 6,
     "metadata": {},
     "output_type": "execute_result"
    }
   ],
   "source": [
    "interact(plot_lightcurve, dflc_lm='ZTF18aagsenq')"
   ]
  },
  {
   "cell_type": "code",
   "execution_count": null,
   "metadata": {},
   "outputs": [],
   "source": []
  }
 ],
 "metadata": {
  "kernelspec": {
   "display_name": "Python 3",
   "language": "python",
   "name": "python3"
  },
  "language_info": {
   "codemirror_mode": {
    "name": "ipython",
    "version": 3
   },
   "file_extension": ".py",
   "mimetype": "text/x-python",
   "name": "python",
   "nbconvert_exporter": "python",
   "pygments_lexer": "ipython3",
   "version": "3.7.6"
  }
 },
 "nbformat": 4,
 "nbformat_minor": 2
}
